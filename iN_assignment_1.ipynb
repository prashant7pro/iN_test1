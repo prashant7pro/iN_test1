{
 "cells": [
  {
   "cell_type": "markdown",
   "id": "08918ef9",
   "metadata": {},
   "source": [
    "# Q1. In the below elements which of them are values or an expression? eg:- values can be integer or string and expressions will be mathematical operators.\n",
    "\n",
    "\n",
    "* \n",
    "'hello'\n",
    "-87.8\n",
    "- \n",
    "/ \n",
    "+\n",
    "6 \n",
    "\n",
    "Answer -\n",
    "\n",
    "* : expression \n",
    "\n",
    "'hello' : value \n",
    "\n",
    "-87.8 : value \n",
    "\n",
    "- : expression \n",
    "\n",
    "/ : expression \n",
    "\n",
    "6 : value as it is integer \n"
   ]
  },
  {
   "cell_type": "markdown",
   "id": "05d26200",
   "metadata": {},
   "source": [
    "# Q2. What is the difference between string and variable?\n",
    "\n",
    "Answer - \n",
    "\n",
    "VARIABLE - \n",
    "Variables are memory containers which is used to store values \n",
    "Assigning different data types to variables, you can store integers, decimals and characters in variable \n",
    "\n",
    "Example -\n",
    "x = 5\n",
    "here x is variable and integer value 5 is stored in it\n",
    "\n",
    "X = str(5)  (here X is variable which store string value 5)\n",
    "\n",
    "STRING - \n",
    "\n",
    "String is data type, in python present by single quotation or double quotation marks\n",
    "\n",
    "Example – ‘hello’    or “hello”\n",
    "A = “hello ”  (A is variable which holds string “hello”)\n"
   ]
  },
  {
   "cell_type": "markdown",
   "id": "84df35bf",
   "metadata": {},
   "source": [
    "# Q 3. Describe three different data types.\n",
    "\n",
    "Answer: \n",
    "\n",
    "Data types are different types of classes\n",
    "variables are instance or object of these classes.\n",
    "These values are defined as python int, python float\n",
    "Different types of data types \n",
    "1.\tNumeric – \n",
    "It is used to represent data that has numeric value, it can be integer, a floating number or a complex number \n",
    "Integer – It contain negative or positive whole number, In python there is no limit how long a integer value can be.\n",
    "Example – \n",
    "x = 50  \n",
    "Float – This value is represented by the float class. It is real number with floating-point representation. It is specified by a decimal point. \n",
    "Example – \n",
    "x = 50.5\n",
    "Complex Number – Complex number represented by complex class. Combination of real part + (imaginary part)j \n",
    "Example – 2+3j\n",
    "Example – \n",
    "x = 50j \n",
    "2.\tList Data Type\n",
    "It is ordered collection of data like as arrays. Items stored in list need not to be of same type. It is created using square brackets[].\n",
    "List = []\n",
    "List = [‘pras’, ‘tom’]\n",
    "We use index operator [] to access an item in list. Negative sequence indexes represent positions from the end of the array. \n",
    "example – List [-3]\n",
    "List [-1] refer to last item in list  \n",
    "3.\tSet\n",
    "It is unordered collection of data types that is iterable, mutable and has no duplicate elements.\n",
    "Elements in set need not be the same\n",
    "Example – \n",
    "Hello = set()\n",
    "print(“print statement: “)\n",
    "Print(Hello)\n",
    "set items cannot be accessed by referring to an index because sets are unordered and the items has no index. To loop through set items we use for loop.\n",
    "\n"
   ]
  },
  {
   "cell_type": "markdown",
   "id": "600dfda0",
   "metadata": {},
   "source": [
    "# Question 4.  What is an expression made up of? What do all expressions do?\n",
    "\n",
    "Answer : An expression is a combination of values, variables and operators. The expression produces some value after interpreted by the interpreter. \n",
    "Example :\n",
    "x = x+10x"
   ]
  },
  {
   "cell_type": "markdown",
   "id": "45414df9",
   "metadata": {},
   "source": [
    "# Question 5. This assignment statements, like spam = 10. What is the difference between an expression and a statement?\n",
    "\n",
    "Answer : \n",
    "A statement is used for creating variables or for displaying values, while expression produces some value or result. \n",
    "Statement - Statement is an instruction that interpreter can execute. In other words, the statement can be anything written in Python language. Is always end with the token NEWLINE character. It shows that each line in a Python program is a statement that can be executed with the help of a python interpreter.\n",
    "\n",
    "spam = 10 is an example of assignment statement where integer 10 is assigned to variable spam\n",
    "A=A+20   In this expression 20 is a value that will be added to the variable A, after the addition, we will get the result and it will be assigned to the variable A.\n",
    "a = 25          # a statement\n",
    "a = a + 20      # an expression\n",
    "print(a)\n",
    "\n",
    "Types of statements in Python:\n",
    "There are different types of statements in Python as follows:\n",
    "a)\tMulti line statements\n",
    "b)\tExpression statements\n",
    "c)\tContinue statements and Break statements\n",
    "\n",
    "Types of expression \n",
    "Constant expression \n",
    "Arithmetic expressions\n",
    "Integral expressions\n",
    "Floating expressions\n",
    "Relational expressions\n",
    "Logical expressions\n",
    "Bitwise expressions\n",
    "Combination expressions\n"
   ]
  },
  {
   "cell_type": "markdown",
   "id": "7956415b",
   "metadata": {},
   "source": [
    "# Question 6. After running the following code, what does the variable bacon contain?\n",
    "bacon = 22\n",
    "bacon + 1\n",
    "\n",
    "Answer : It will produce 22\n",
    "bacon+1 is not stored in any variable\n",
    "\n",
    "\n",
    "\n"
   ]
  },
  {
   "cell_type": "markdown",
   "id": "426d3e63",
   "metadata": {},
   "source": [
    "# Question 7. What should the values of the following two terms be?\n",
    "'spam' + 'spamspam'\n",
    "'spam' * 3\n",
    "\n",
    "Answer :  'spam' + 'spamspam'     it will produce the value spamspamspam\n",
    "'spam' * 3   it will produce the value spamspamspam"
   ]
  },
  {
   "cell_type": "markdown",
   "id": "5c8bbdad",
   "metadata": {},
   "source": [
    "# Question 8. Why is eggs a valid variable name while 100 is invalid?\n",
    "\n",
    "Answer : eggs a valid variable name but 100 is not valid variable invalid as variable name does not start with 100\n"
   ]
  },
  {
   "cell_type": "markdown",
   "id": "0da15888",
   "metadata": {},
   "source": [
    "# Question 9. What three functions can be used to get the integer, floating-point number, or string version of a value?\n",
    "\n",
    "Answer :   int()  function used to get the integer version of a value\n",
    "float()  function used to get the floating-point number version of a value\n",
    "str( )  function used to get the string version of a value \n"
   ]
  },
  {
   "cell_type": "markdown",
   "id": "0ad3a656",
   "metadata": {},
   "source": [
    "# Question 10. Why does this expression cause an error? How can you fix it?\n",
    "'I have eaten ' + 99 + ' burritos.'\n",
    "\n",
    "Answer :\n",
    "I have eaten ' + 99 + ' burritos. ' The expression causes an error because 99 is an integer, and only strings can be concatenated to other strings with the + operator. \n",
    "The correct way is I have eaten ' + str(99) + ' burritos.\n"
   ]
  }
 ],
 "metadata": {
  "kernelspec": {
   "display_name": "Python 3 (ipykernel)",
   "language": "python",
   "name": "python3"
  },
  "language_info": {
   "codemirror_mode": {
    "name": "ipython",
    "version": 3
   },
   "file_extension": ".py",
   "mimetype": "text/x-python",
   "name": "python",
   "nbconvert_exporter": "python",
   "pygments_lexer": "ipython3",
   "version": "3.10.9"
  }
 },
 "nbformat": 4,
 "nbformat_minor": 5
}
